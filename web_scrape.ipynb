{
 "cells": [
  {
   "cell_type": "code",
   "execution_count": 8,
   "id": "b7cf0b4a-0e43-4504-b803-4c7668ed6205",
   "metadata": {},
   "outputs": [],
   "source": [
    "url_start = \"https://www.basketball-reference.com/awards/awards_{}.html\""
   ]
  },
  {
   "cell_type": "code",
   "execution_count": 9,
   "id": "9609d817-fd6e-4969-90b7-3b2324719b68",
   "metadata": {},
   "outputs": [],
   "source": [
    "years = list(range(1994,2025))"
   ]
  },
  {
   "cell_type": "code",
   "execution_count": 11,
   "id": "87d24686-caa8-4e1c-b859-287ae499c5be",
   "metadata": {
    "scrolled": true
   },
   "outputs": [],
   "source": [
    "import requests\n",
    "\n",
    "for year in years:\n",
    "    url = url_start.format(year)\n",
    "    data = requests.get(url)\n",
    "\n",
    "    with open(\"mvp/{}.html\".format(year), \"w+\", encoding = \"utf-8\") as f:\n",
    "        f.write(data.text)"
   ]
  },
  {
   "cell_type": "code",
   "execution_count": 15,
   "id": "3cc88c69-52bd-4727-befc-a8f35c15b837",
   "metadata": {},
   "outputs": [],
   "source": [
    "from bs4 import BeautifulSoup"
   ]
  },
  {
   "cell_type": "code",
   "execution_count": 17,
   "id": "3fcf2b6e-4a5f-4741-a547-20ce242c57bc",
   "metadata": {},
   "outputs": [],
   "source": [
    "with open(\"mvp/1994.html\", encoding = \"utf-8\") as f:\n",
    "    page = f.read()"
   ]
  },
  {
   "cell_type": "code",
   "execution_count": 18,
   "id": "f950eb58-04e7-4158-a4e1-7a9848ef615f",
   "metadata": {},
   "outputs": [],
   "source": [
    "soup = BeautifulSoup(page,\"html.parser\")"
   ]
  },
  {
   "cell_type": "code",
   "execution_count": 20,
   "id": "acfeca3e-6bf3-4588-ac49-cc8f4dd797a3",
   "metadata": {},
   "outputs": [],
   "source": [
    "soup.find('tr', class_=\"over_header\").decompose()"
   ]
  },
  {
   "cell_type": "code",
   "execution_count": null,
   "id": "86ab7906-c5c8-43bc-85f9-41ae55e8f348",
   "metadata": {},
   "outputs": [],
   "source": []
  }
 ],
 "metadata": {
  "kernelspec": {
   "display_name": "Python 3 (ipykernel)",
   "language": "python",
   "name": "python3"
  },
  "language_info": {
   "codemirror_mode": {
    "name": "ipython",
    "version": 3
   },
   "file_extension": ".py",
   "mimetype": "text/x-python",
   "name": "python",
   "nbconvert_exporter": "python",
   "pygments_lexer": "ipython3",
   "version": "3.12.5"
  }
 },
 "nbformat": 4,
 "nbformat_minor": 5
}
